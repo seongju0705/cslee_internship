{
 "cells": [
  {
   "cell_type": "markdown",
   "id": "6150e48b",
   "metadata": {},
   "source": [
    "# 이산확률분포 실습"
   ]
  },
  {
   "cell_type": "markdown",
   "id": "07502ee7",
   "metadata": {},
   "source": [
    "## 1. Scipy 패키지\n",
    "- Scipy는 수치 해석 기능을 제공하는 파이썬 패키지"
   ]
  },
  {
   "cell_type": "code",
   "execution_count": 1,
   "id": "8a58b05f",
   "metadata": {},
   "outputs": [],
   "source": [
    "# 패키지 import\n",
    "import os\n",
    "import warnings\n",
    "warnings.simplefilter(action='ignore', category=FutureWarning)\n",
    "\n",
    "import pandas as pd\n",
    "import numpy as np\n",
    "from scipy import stats\n",
    "\n",
    "# 시각화 패키지\n",
    "import matplotlib.pyplot as plt\n",
    "import seaborn as sns\n",
    "%matplotlib inline\n",
    "\n",
    "# os에 따른 Font 깨짐 제거를 위해 Font 지정\n",
    "import os\n",
    "if os.name == 'nt':\n",
    "    font_family = 'Malgun Gothic'\n",
    "    \n",
    "# - 값이 깨지는 문제 해결을 위해 파라미터값 설정\n",
    "sns.set(font=font_family, rc={'axes.unicode_minus': False})"
   ]
  },
  {
   "cell_type": "markdown",
   "id": "b57f201d",
   "metadata": {},
   "source": [
    "## 2. 이산확률분포"
   ]
  },
  {
   "cell_type": "markdown",
   "id": "a681c40a",
   "metadata": {},
   "source": [
    "### 1) 베르누이분포\n",
    "- 매 시행마다 오직 두 가지의 가능한 결과만 일어난다고 할 때, 이러한 실험을 1회 시행하여 일어난 두 가지 결과에 의해 그 값이 각각 0과 1로 결정되는 확률분포"
   ]
  },
  {
   "cell_type": "code",
   "execution_count": 2,
   "id": "b246e4c3",
   "metadata": {},
   "outputs": [],
   "source": [
    "# 베르누이분포 정의\n",
    "mu = 0.7   # 평균\n",
    "bern = stats.bernoulli(mu)"
   ]
  },
  {
   "cell_type": "code",
   "execution_count": 3,
   "id": "c78545ed",
   "metadata": {},
   "outputs": [],
   "source": [
    "# 확률질량함수 계산 및 시각화\n",
    "b_x = [0, 1]\n",
    "bern_pmf = bern.pmf(b_x)"
   ]
  },
  {
   "cell_type": "code",
   "execution_count": 4,
   "id": "66e99336",
   "metadata": {
    "scrolled": true
   },
   "outputs": [
    {
     "data": {
      "image/png": "[encoded data removed]",
      "text/plain": [
       "<Figure size 432x288 with 1 Axes>"
      ]
     },
     "metadata": {},
     "output_type": "display_data"
    }
   ],
   "source": [
    "# 시각화\n",
    "plt.bar(b_x, bern_pmf)\n",
    "plt.xlim(-1, 2)\n",
    "plt.ylim(0, 1)\n",
    "plt.xticks([0, 1], ['x=0', 'x=1'])\n",
    "plt.xlabel('표본값')\n",
    "plt.ylabel('P(x)')\n",
    "plt.title('베르누이 확률변수의 확률질량함수')\n",
    "plt.show()"
   ]
  },
  {
   "cell_type": "code",
   "execution_count": 5,
   "id": "fa9ca2a7",
   "metadata": {},
   "outputs": [
    {
     "data": {
      "text/plain": [
       "array([1, 0, 1, 1, 1, 1, 1, 0, 0, 1, 0, 1, 1, 0, 1, 1, 1, 0, 0, 0, 0, 0,\n",
       "       1, 0, 1, 1, 1, 0, 1, 1, 1, 0, 1, 1, 1, 1, 1, 1, 0, 1, 1, 1, 1, 1,\n",
       "       1, 1, 1, 1, 1, 1, 1, 1, 0, 1, 1, 1, 1, 1, 1, 1, 1, 1, 1, 1, 1, 1,\n",
       "       0, 1, 0, 1, 0, 1, 0, 1, 0, 1, 1, 1, 1, 1, 1, 1, 1, 1, 1, 1, 1, 1,\n",
       "       1, 0, 1, 1, 1, 0, 1, 1, 1, 1, 0, 1])"
      ]
     },
     "execution_count": 5,
     "metadata": {},
     "output_type": "execute_result"
    }
   ],
   "source": [
    "# 베르누이 검정을 위한 베르누이 샘플 100개 생성\n",
    "x_sample_bern = bern.rvs(100, random_state=0)\n",
    "x_sample_bern"
   ]
  },
  {
   "cell_type": "code",
   "execution_count": 6,
   "id": "6c98cb5c",
   "metadata": {},
   "outputs": [
    {
     "data": {
      "text/html": [
       "<div>\n",
       "<style scoped>\n",
       "    .dataframe tbody tr th:only-of-type {\n",
       "        vertical-align: middle;\n",
       "    }\n",
       "\n",
       "    .dataframe tbody tr th {\n",
       "        vertical-align: top;\n",
       "    }\n",
       "\n",
       "    .dataframe thead th {\n",
       "        text-align: right;\n",
       "    }\n",
       "</style>\n",
       "<table border=\"1\" class=\"dataframe\">\n",
       "  <thead>\n",
       "    <tr style=\"text-align: right;\">\n",
       "      <th></th>\n",
       "      <th>결과</th>\n",
       "      <th>검증(시뮬레이션)</th>\n",
       "    </tr>\n",
       "  </thead>\n",
       "  <tbody>\n",
       "    <tr>\n",
       "      <th>0</th>\n",
       "      <td>0.3</td>\n",
       "      <td>0.23</td>\n",
       "    </tr>\n",
       "    <tr>\n",
       "      <th>1</th>\n",
       "      <td>0.7</td>\n",
       "      <td>0.77</td>\n",
       "    </tr>\n",
       "  </tbody>\n",
       "</table>\n",
       "</div>"
      ],
      "text/plain": [
       "    결과  검증(시뮬레이션)\n",
       "0  0.3       0.23\n",
       "1  0.7       0.77"
      ]
     },
     "execution_count": 6,
     "metadata": {},
     "output_type": "execute_result"
    }
   ],
   "source": [
    "# 베르누이 시뮬레이션\n",
    "y_bern = np.bincount(x_sample_bern, minlength=2) / float(len(x_sample_bern))\n",
    "\n",
    "df_bern = pd.DataFrame({'결과': bern_pmf, '검증(시뮬레이션)': y_bern})\n",
    "df_bern.index = [0, 1]\n",
    "df_bern"
   ]
  },
  {
   "cell_type": "markdown",
   "id": "5c0048ea",
   "metadata": {},
   "source": [
    "### 2) 이항분포\n",
    "- 베르누이시행을 독립적으로 n번 반복해서 시행하여 일어난 두 가지 결과에 의해 그 값이 각각 0과 1로 결정되는 확률분포"
   ]
  },
  {
   "cell_type": "code",
   "execution_count": 7,
   "id": "0aba23b7",
   "metadata": {},
   "outputs": [
    {
     "name": "stdout",
     "output_type": "stream",
     "text": [
      "k = 3, n = 15, p = 0.3의 PMF: 0.17004021326428484\n",
      "k = 0~4, n = 15, p = 0.3의 PMF: 0.5154910592268434\n"
     ]
    }
   ],
   "source": [
    "# 0.3의 확률을 갖는 15회의 실험에서 3회 성공할 확률 반환\n",
    "print('k = 3, n = 15, p = 0.3의 PMF:', stats.binom.pmf(3, n=15, p=0.3))\n",
    "\n",
    "# 0.3의 확률을 갖는 15회의 실험에서 0 ~ 4회 성공할 확률의 누적값 반환\n",
    "print('k = 0~4, n = 15, p = 0.3의 PMF:', stats.binom.cdf(4, n=15, p=0.3))"
   ]
  },
  {
   "cell_type": "code",
   "execution_count": 8,
   "id": "a4594904",
   "metadata": {},
   "outputs": [],
   "source": [
    "# p의 확률을 갖는 n회의 시행에서 k회 성공할 확률을 반환하는 함수 생성\n",
    "def bion_dist(k, n, p):\n",
    "    pmf_bion = stats.binom.pmf(k, n = n, p = p)\n",
    "    return pmf_bion"
   ]
  },
  {
   "cell_type": "code",
   "execution_count": 9,
   "id": "86d23669",
   "metadata": {},
   "outputs": [
    {
     "data": {
      "image/png": "[encoded data removed]",
      "text/plain": [
       "<Figure size 432x288 with 1 Axes>"
      ]
     },
     "metadata": {},
     "output_type": "display_data"
    }
   ],
   "source": [
    "# 0~15 범위 생성: 성공 횟수\n",
    "x = np.arange(0, 16)\n",
    "\n",
    "# 확률질량함수의 값 array\n",
    "pdf_result = [bion_dist(k, 15, 0.3) for k in range(0, 16)]\n",
    "\n",
    "# 시각화\n",
    "plt.title('확률질량함수')\n",
    "plt.ylim(0, 0.3)\n",
    "plt.text(12.5, 0.28, 'k, n = 15, p = 0.3')\n",
    "plt.bar(x, pdf_result, color='mediumaquamarine')\n",
    "plt.show()"
   ]
  },
  {
   "cell_type": "markdown",
   "id": "1115f8e0",
   "metadata": {},
   "source": [
    "### 3) 포아송분포\n",
    "- 어떤 단위 시간 동안 발생한 사건 횟수를 x라 했을 때의 확률분포"
   ]
  },
  {
   "cell_type": "code",
   "execution_count": 18,
   "id": "2ec9a12a",
   "metadata": {},
   "outputs": [
    {
     "data": {
      "text/plain": [
       "0.18044704431548356"
      ]
     },
     "execution_count": 18,
     "metadata": {},
     "output_type": "execute_result"
    }
   ],
   "source": [
    "# 3번의 시행에서 평균 사건 수(기대값 2)에 대한 발생 확률\n",
    "stats.poisson.pmf(3, 2, loc=0)"
   ]
  },
  {
   "cell_type": "code",
   "execution_count": 11,
   "id": "f49895a1",
   "metadata": {},
   "outputs": [],
   "source": [
    "# n번의 시행에서 평균 사건 수(기대값, 람다)에 대한 발생 확률 함수\n",
    "def pois_dist(n, lamb):\n",
    "    pmf_poi = stats.poisson.pmf(n, lamb, loc=0)\n",
    "    return pmf_poi"
   ]
  },
  {
   "cell_type": "code",
   "execution_count": 12,
   "id": "5bdabdd6",
   "metadata": {},
   "outputs": [],
   "source": [
    "# 확률질량함수의 값 array\n",
    "x = np.arange(0, 41)\n",
    "poi_pdf_result = [pois_dist(n, 10) for n in range(0, 41)]"
   ]
  },
  {
   "cell_type": "code",
   "execution_count": 13,
   "id": "3f550962",
   "metadata": {
    "scrolled": true
   },
   "outputs": [
    {
     "data": {
      "image/png": "[encoded data removed]",
      "text/plain": [
       "<Figure size 432x288 with 1 Axes>"
      ]
     },
     "metadata": {},
     "output_type": "display_data"
    }
   ],
   "source": [
    "plt.ylim(0, 0.15)\n",
    "plt.text(33.5, 0.14, '람다 = 10')\n",
    "plt.bar(x, poi_pdf_result)\n",
    "plt.show()"
   ]
  },
  {
   "cell_type": "code",
   "execution_count": 15,
   "id": "f2ecda93",
   "metadata": {},
   "outputs": [
    {
     "data": {
      "image/png": "[encoded data removed]",
      "text/plain": [
       "<Figure size 720x720 with 3 Axes>"
      ]
     },
     "metadata": {},
     "output_type": "display_data"
    }
   ],
   "source": [
    "# 기대값에 따른 포아송분포 차이 확인\n",
    "x = np.arange(0, 41)\n",
    "fig = plt.figure(figsize = (10, 10))\n",
    "\n",
    "fig.add_subplot(3, 1, 1)\n",
    "pmf_poin1 = np.array([pois_dist(n, 10) for n in range(0, 41)])\n",
    "plt.ylim(0, 0.15)\n",
    "plt.text(33.5, 0.12, '람다 = 10')\n",
    "plt.bar(x, pmf_poin1, color='lightcoral')\n",
    "\n",
    "fig.add_subplot(3, 1, 2)\n",
    "pmf_poin2 = np.array([pois_dist(n, 15) for n in range(0, 41)])\n",
    "plt.ylim(0, 0.15)\n",
    "plt.text(33.5, 0.12, '람다 = 15')\n",
    "plt.bar(x, pmf_poin2, color='mediumaquamarine')\n",
    "\n",
    "fig.add_subplot(3, 1, 3)\n",
    "pmf_poin3 = np.array([pois_dist(n, 20) for n in range(0, 41)])\n",
    "plt.ylim(0, 0.15)\n",
    "plt.text(33.5, 0.12, '람다 = 20')\n",
    "plt.bar(x, pmf_poin3, color='royalblue')\n",
    "\n",
    "plt.show()"
   ]
  }
 ],
 "metadata": {
  "kernelspec": {
   "display_name": "Python 3 (ipykernel)",
   "language": "python",
   "name": "python3"
  },
  "language_info": {
   "codemirror_mode": {
    "name": "ipython",
    "version": 3
   },
   "file_extension": ".py",
   "mimetype": "text/x-python",
   "name": "python",
   "nbconvert_exporter": "python",
   "pygments_lexer": "ipython3",
   "version": "3.9.12"
  }
 },
 "nbformat": 4,
 "nbformat_minor": 5
}
