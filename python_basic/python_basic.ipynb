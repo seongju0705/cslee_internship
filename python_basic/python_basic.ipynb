{
 "cells": [
  {
   "cell_type": "code",
   "execution_count": 1,
   "id": "6f075f4f",
   "metadata": {},
   "outputs": [],
   "source": [
    "#산토끼\n",
    "def get_char_count(lyric, char):\n",
    "    count = 0\n",
    "    for i in lyric:\n",
    "        if (i == char):\n",
    "            count = count + 1\n",
    "    return count"
   ]
  },
  {
   "cell_type": "code",
   "execution_count": 2,
   "id": "9aeefeb1",
   "metadata": {},
   "outputs": [
    {
     "name": "stdout",
     "output_type": "stream",
     "text": [
      "4\n"
     ]
    }
   ],
   "source": [
    "lyric = \"\"\"산토끼 토끼야. 어디를 가느냐. 깡충깡충 뛰면서. 어디를 가느냐. \n",
    "산 고개 고개를. 나 혼자 넘어서. 토실토실 알밤을. 주워 올 테야.\"\"\"\n",
    "print(get_char_count(lyric, '토'))"
   ]
  },
  {
   "cell_type": "code",
   "execution_count": 2,
   "id": "2a9e6ae0",
   "metadata": {
    "scrolled": true
   },
   "outputs": [
    {
     "name": "stdout",
     "output_type": "stream",
     "text": [
      "-13\n",
      "따뜻한 아메리카노\n"
     ]
    }
   ],
   "source": [
    "temp = int(input())\n",
    "if temp > 0:\n",
    "    print('아이스 아메리카노')\n",
    "else :\n",
    "    print('따뜻한 아메리카노')"
   ]
  },
  {
   "cell_type": "code",
   "execution_count": 10,
   "id": "8498b6f6",
   "metadata": {},
   "outputs": [
    {
     "name": "stdout",
     "output_type": "stream",
     "text": [
      "[85, 95, 75, 70, 90, 100, 95, 85, 80, 85]\n"
     ]
    }
   ],
   "source": [
    "def update_scores(scores):\n",
    "    new_scores = []\n",
    "    \n",
    "    for s in scores:\n",
    "        new = s + 5\n",
    "        new_scores.append(new)\n",
    "    return new_scores\n",
    "\n",
    "scores = [80, 90, 70, 65, 85, 95, 90, 80, 75, 80]\n",
    "new = update_scores(scores)\n",
    "print(new)"
   ]
  },
  {
   "cell_type": "code",
   "execution_count": 11,
   "id": "79a5128c",
   "metadata": {},
   "outputs": [
    {
     "name": "stdout",
     "output_type": "stream",
     "text": [
      "HELLO WORLD\n",
      "hello world\n"
     ]
    }
   ],
   "source": [
    "def large_char(word):\n",
    "    word = word.upper()\n",
    "    return word\n",
    "\n",
    "def small_char(word):\n",
    "    word = word.lower()\n",
    "    return word\n",
    "\n",
    "print(large_char(\"Hello World\"))\n",
    "print(small_char(\"Hello World\"))"
   ]
  },
  {
   "cell_type": "code",
   "execution_count": null,
   "id": "34755b4f",
   "metadata": {},
   "outputs": [],
   "source": []
  }
 ],
 "metadata": {
  "kernelspec": {
   "display_name": "Python 3 (ipykernel)",
   "language": "python",
   "name": "python3"
  },
  "language_info": {
   "codemirror_mode": {
    "name": "ipython",
    "version": 3
   },
   "file_extension": ".py",
   "mimetype": "text/x-python",
   "name": "python",
   "nbconvert_exporter": "python",
   "pygments_lexer": "ipython3",
   "version": "3.9.12"
  }
 },
 "nbformat": 4,
 "nbformat_minor": 5
}
