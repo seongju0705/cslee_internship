{
 "cells": [
  {
   "cell_type": "markdown",
   "id": "d2533e74",
   "metadata": {},
   "source": [
    "## 2.5.1.1. python_re"
   ]
  },
  {
   "cell_type": "code",
   "execution_count": 1,
   "id": "a9eded5f",
   "metadata": {},
   "outputs": [],
   "source": [
    "import re"
   ]
  },
  {
   "cell_type": "code",
   "execution_count": 2,
   "id": "c9e422d2",
   "metadata": {},
   "outputs": [
    {
     "data": {
      "text/plain": [
       "<re.Match object; span=(0, 3), match='abc'>"
      ]
     },
     "execution_count": 2,
     "metadata": {},
     "output_type": "execute_result"
    }
   ],
   "source": [
    "# re.search()함수를 사용하면 두 번째 매개변수의 문자열이 첫 번째 매개변수의 정규 표현식과 매칭되는지 확인 가능\n",
    "# 매칭되는 경우 Match 객체를 반환, 매칭되지 않는 경우 None을 반환\n",
    "re.search(r'a.*c', 'abc123DEF')"
   ]
  },
  {
   "cell_type": "code",
   "execution_count": 3,
   "id": "7c57d0ad",
   "metadata": {},
   "outputs": [
    {
     "data": {
      "text/plain": [
       "<re.Match object; span=(0, 7), match='abc123D'>"
      ]
     },
     "execution_count": 3,
     "metadata": {},
     "output_type": "execute_result"
    }
   ],
   "source": [
    "# 다음 예는 정규 표현식에 맞지 않으므로 None을 반환\n",
    "result = re.search(r'a.*D', 'abc123DEF')\n",
    "result"
   ]
  },
  {
   "cell_type": "code",
   "execution_count": 4,
   "id": "f2325e76",
   "metadata": {},
   "outputs": [
    {
     "name": "stdout",
     "output_type": "stream",
     "text": [
      "0 7\n",
      "abc123DEF\n"
     ]
    }
   ],
   "source": [
    "start, end = result.span()\n",
    "print(start, end)\n",
    "print(result.string)"
   ]
  },
  {
   "cell_type": "code",
   "execution_count": 5,
   "id": "ed082687",
   "metadata": {},
   "outputs": [
    {
     "data": {
      "text/plain": [
       "<re.Match object; span=(0, 7), match='abc123D'>"
      ]
     },
     "execution_count": 5,
     "metadata": {},
     "output_type": "execute_result"
    }
   ],
   "source": [
    "# re.IGNORECASE(또는 re.I)를 지정하면 대소문자를 무시\n",
    "re.search(r'a.*d', 'abc123DEF', re.IGNORECASE)"
   ]
  },
  {
   "cell_type": "code",
   "execution_count": 6,
   "id": "12806ef5",
   "metadata": {},
   "outputs": [
    {
     "data": {
      "text/plain": [
       "'abc123DEFaddc'"
      ]
     },
     "execution_count": 6,
     "metadata": {},
     "output_type": "execute_result"
    }
   ],
   "source": [
    "# Match 객체의 group() 메서드로 일치한 값을 추출\n",
    "# 매개변수에 0을 지정하면 매치된 모든 값을 반환\n",
    "m = re.search(r'a(.*)c', 'abc123DEFaddc')\n",
    "m.group(0)"
   ]
  },
  {
   "cell_type": "code",
   "execution_count": 7,
   "id": "ab49a0ac",
   "metadata": {},
   "outputs": [
    {
     "data": {
      "text/plain": [
       "'bc123DEFadd'"
      ]
     },
     "execution_count": 7,
     "metadata": {},
     "output_type": "execute_result"
    }
   ],
   "source": [
    "# 매개변수에 1 이상의 숫자를 지정하면 정규 표현식에서 0로 감싼 부분에 해당하는 값을 추출\n",
    "# 1이라면 1번째 그룹, 2라면 2번째 그룹 추출\n",
    "m.group(1)"
   ]
  },
  {
   "cell_type": "code",
   "execution_count": 8,
   "id": "cd4a7472",
   "metadata": {},
   "outputs": [
    {
     "data": {
      "text/plain": [
       "['Thi', 'is', 'pen']"
      ]
     },
     "execution_count": 8,
     "metadata": {},
     "output_type": "execute_result"
    }
   ],
   "source": [
    "# re.findall() 함수를 사용하면 정규 표현식에 맞는 모든 문자열을 리스트 타입으로 추출 가능\n",
    "# 다음 예에서는 2글자 이상의 단어를 모두 추출\n",
    "# \\w는 유니코드로 글자를 비교, 공백 문자는 \\s 등으로 추출 가능\n",
    "re.findall(r'\\w{2,3}', 'This is a pen')"
   ]
  },
  {
   "cell_type": "code",
   "execution_count": 9,
   "id": "1424924c",
   "metadata": {},
   "outputs": [
    {
     "data": {
      "text/plain": [
       "'That is a pen'"
      ]
     },
     "execution_count": 9,
     "metadata": {},
     "output_type": "execute_result"
    }
   ],
   "source": [
    "# re.sub() 함수를 사용하면 정규 표현식에 매칭되는 문자열 치환\n",
    "# 3번째 매개변수에 넣은 문자열에서 첫 번째 정규 표현식에 매칭되는 문자열을 2번째 매개변수 문자열로 치환\n",
    "re.sub(r'\\w{4}', 'That', 'This is a pen')"
   ]
  },
  {
   "cell_type": "code",
   "execution_count": 10,
   "id": "3180f636",
   "metadata": {},
   "outputs": [
    {
     "data": {
      "text/plain": [
       "<re.Match object; span=(0, 3), match='abc'>"
      ]
     },
     "execution_count": 10,
     "metadata": {},
     "output_type": "execute_result"
    }
   ],
   "source": [
    "result = re.search(r'a.*c', 'abc123DEF')\n",
    "result"
   ]
  },
  {
   "cell_type": "code",
   "execution_count": 11,
   "id": "13e5931b",
   "metadata": {
    "scrolled": true
   },
   "outputs": [
    {
     "data": {
      "text/plain": [
       "<re.Match object; span=(0, 3), match='abc'>"
      ]
     },
     "execution_count": 11,
     "metadata": {},
     "output_type": "execute_result"
    }
   ],
   "source": [
    "# match는 시작부터 일치하는지를 검사, search는 매칭되는 위치가 어디인지 탐색\n",
    "result = re.match(r'a.*c', 'abc123DEF')\n",
    "result"
   ]
  },
  {
   "cell_type": "markdown",
   "id": "c2122299",
   "metadata": {},
   "source": [
    "## 2.5.1.2.scrape_re"
   ]
  },
  {
   "cell_type": "code",
   "execution_count": 12,
   "id": "746bece3",
   "metadata": {},
   "outputs": [],
   "source": [
    "import re\n",
    "from html import unescape"
   ]
  },
  {
   "cell_type": "code",
   "execution_count": 13,
   "id": "9e02feb7",
   "metadata": {},
   "outputs": [],
   "source": [
    "# 이전 절에서 다운로드한 파일을 열고 html이라는 변수에 저장\n",
    "with open('dp.html', encoding='utf-8') as f:\n",
    "    html = f.read()"
   ]
  },
  {
   "cell_type": "code",
   "execution_count": 14,
   "id": "bf9c3dc7",
   "metadata": {},
   "outputs": [
    {
     "name": "stdout",
     "output_type": "stream",
     "text": [
      "url: http://www.hanbit.co.kr/store/books/look.php?p_code=B8661740335\n",
      "title: 받침 없는 한글 동화 : 무시무시 마녀가 이사 와!\n",
      "---\n",
      "url: http://www.hanbit.co.kr/store/books/look.php?p_code=B6084607806\n",
      "title: 받침 없는 한글 동화 : 도, 도, 도깨비다!\n",
      "---\n",
      "url: http://www.hanbit.co.kr/store/books/look.php?p_code=B1382037871\n",
      "title: 받침 없는 한글 동화 : 바쁘다 바빠 너구리 바빠\n",
      "---\n",
      "url: http://www.hanbit.co.kr/store/books/look.php?p_code=B8948111854\n",
      "title: 받침 없는 한글 동화 : 도깨비 파자마 파티\n",
      "---\n",
      "url: http://www.hanbit.co.kr/store/books/look.php?p_code=B3178834938\n",
      "title: 받침 없는 한글 동화 : 4권 세트\n",
      "---\n",
      "url: http://www.hanbit.co.kr/store/books/look.php?p_code=B4162156367\n",
      "title: 오늘도 시작하지 못하는 당신을 위해\n",
      "---\n",
      "url: http://www.hanbit.co.kr/store/books/look.php?p_code=B5156679966\n",
      "title: IT CookBook, 원리로 이해하는 전력전자공학(2판)\n",
      "---\n",
      "url: http://www.hanbit.co.kr/store/books/look.php?p_code=B6189263297\n",
      "title: 트러스트\n",
      "---\n",
      "url: http://www.hanbit.co.kr/store/books/look.php?p_code=B8806843023\n",
      "title: 리얼 싱가포르 [2022~2023 최신판]\n",
      "---\n",
      "url: http://www.hanbit.co.kr/store/books/look.php?p_code=B4813114979\n",
      "title: 구글 앱스 스크립트 완벽 가이드\n",
      "---\n",
      "url: http://www.hanbit.co.kr/store/books/look.php?p_code=B2859439220\n",
      "title: 원소 이야기\n",
      "---\n",
      "url: http://www.hanbit.co.kr/store/books/look.php?p_code=B1996635146\n",
      "title: 핸즈온 데이터 시각화\n",
      "---\n",
      "url: http://www.hanbit.co.kr/store/books/look.php?p_code=B4354575770\n",
      "title: 생각하는 힘이 붙는 첫 숨은그림찾기\n",
      "---\n",
      "url: http://www.hanbit.co.kr/store/books/look.php?p_code=B9063949643\n",
      "title: IT CookBook, TCP/IP 소켓 프로그래밍(2판)\n",
      "---\n",
      "url: http://www.hanbit.co.kr/store/books/look.php?p_code=B7798657798\n",
      "title: 파이썬을 활용한 베이지안 통계(2판)\n",
      "---\n",
      "url: http://www.hanbit.co.kr/store/books/look.php?p_code=B5171715268\n",
      "title: 인피니티\n",
      "---\n",
      "url: http://www.hanbit.co.kr/store/books/look.php?p_code=B7400451696\n",
      "title: IT CookBook, 쉽게 배우는 데이터 통신과 컴퓨터 네트워크(3판)\n",
      "---\n",
      "url: http://www.hanbit.co.kr/store/books/look.php?p_code=B6129400746\n",
      "title: IT CookBook, 우분투 리눅스(3판)\n",
      "---\n",
      "url: http://www.hanbit.co.kr/store/books/look.php?p_code=B1959656080\n",
      "title: 실용적 접근 방식의 경영학원론(10판)\n",
      "---\n",
      "url: http://www.hanbit.co.kr/store/books/look.php?p_code=B7738896383\n",
      "title: 거시경제학(3판)\n",
      "---\n",
      "url: http://www.hanbit.co.kr/store/books/look.php?p_code=B6001875802\n",
      "title: 비즈니스 데이터 과학\n",
      "---\n",
      "url: http://www.hanbit.co.kr/store/books/look.php?p_code=B6361762764\n",
      "title: 혼자 해도 프로 작가처럼 잘 그리는 아이패드 드로잉 with 프로크리에이트\n",
      "---\n",
      "url: http://www.hanbit.co.kr/store/books/look.php?p_code=B4947312430\n",
      "title: IT CookBook, C로 시작하는 컴퓨터 프로그래밍(4판)\n",
      "---\n",
      "url: http://www.hanbit.co.kr/store/books/look.php?p_code=B1393628384\n",
      "title: IT CookBook, 인터넷 해킹과 보안(4판)\n",
      "---\n",
      "url: http://www.hanbit.co.kr/store/books/look.php?p_code=B7718726335\n",
      "title: 리얼 뉴질랜드 [2022~2023 최신판]\n",
      "---\n",
      "url: http://www.hanbit.co.kr/store/books/look.php?p_code=B9597680767\n",
      "title: IT CookBook, 파이썬 데이터 분석 for Beginner\n",
      "---\n",
      "url: http://www.hanbit.co.kr/store/books/look.php?p_code=B7792763682\n",
      "title: IT CookBook, 엑셀 2019\n",
      "---\n",
      "url: http://www.hanbit.co.kr/store/books/look.php?p_code=B8676970090\n",
      "title: 쉽게 따라하는 NFT 마스터 가이드\n",
      "---\n",
      "url: http://www.hanbit.co.kr/store/books/look.php?p_code=B2119731751\n",
      "title: 오늘부터 팀장입니다\n",
      "---\n",
      "url: http://www.hanbit.co.kr/store/books/look.php?p_code=B5067324775\n",
      "title: IT CookBook, 소프트웨어 공학 이론과 실제\n",
      "---\n",
      "url: http://www.hanbit.co.kr/store/books/look.php?p_code=B9071173699\n",
      "title: 회사에서 바로 통하는 파워포인트 FOR STARTERS(개정판)\n",
      "---\n",
      "url: http://www.hanbit.co.kr/store/books/look.php?p_code=B3501358503\n",
      "title: 회사에서 바로 통하는 엑셀 FOR STARTERS(개정판)\n",
      "---\n",
      "url: http://www.hanbit.co.kr/store/books/look.php?p_code=B2835837863\n",
      "title: 초등 공부 습관 바이블: 똑같이 하는데 탁월한 결과를 내는 아이는 무엇이 다를까?\n",
      "---\n",
      "url: http://www.hanbit.co.kr/store/books/look.php?p_code=B9503831552\n",
      "title: 이그노벨상 읽어드립니다\n",
      "---\n",
      "url: http://www.hanbit.co.kr/store/books/look.php?p_code=B2247981475\n",
      "title: 공학도라면 반드시 알아야 할 최소한의 수학(8판)\n",
      "---\n",
      "url: http://www.hanbit.co.kr/store/books/look.php?p_code=B9102351881\n",
      "title: 기업의 성공을 이끄는 Developer Relations\n",
      "---\n",
      "url: http://www.hanbit.co.kr/store/books/look.php?p_code=B5825921855\n",
      "title: 사례 분석으로 배우는 데이터 시각화\n",
      "---\n",
      "url: http://www.hanbit.co.kr/store/books/look.php?p_code=B3886303135\n",
      "title: 클라우드 네이티브 애플리케이션 디자인 패턴\n",
      "---\n",
      "url: http://www.hanbit.co.kr/store/books/look.php?p_code=B7422209817\n",
      "title: 변화하는 세계 질서\n",
      "---\n",
      "url: http://www.hanbit.co.kr/store/books/look.php?p_code=B1681646737\n",
      "title: 혼자 공부하는파이썬(개정판)\n",
      "---\n",
      "url: http://www.hanbit.co.kr/store/books/look.php?p_code=B1355665429\n",
      "title: 아이주도이유식 레시피북(개정판)\n",
      "---\n",
      "url: http://www.hanbit.co.kr/store/books/look.php?p_code=B9365371874\n",
      "title: 소문난 명강의 : 소플의 처음 만난 리액트\n",
      "---\n",
      "url: http://www.hanbit.co.kr/store/books/look.php?p_code=B6059097161\n",
      "title: 적정 소프트웨어 아키텍처\n",
      "---\n",
      "url: http://www.hanbit.co.kr/store/books/look.php?p_code=B6562895528\n",
      "title: 리얼 호주 [2022~2023 최신판]\n",
      "---\n",
      "url: http://www.hanbit.co.kr/store/books/look.php?p_code=B5594567896\n",
      "title: 회사에서 바로 통하는 실무 엑셀+파워포인트+워드&한글(모든 버전 사용 가능, 개정판)\n",
      "---\n",
      "url: http://www.hanbit.co.kr/store/books/look.php?p_code=B2317469552\n",
      "title: 혼자 공부하는 얄팍한 코딩 지식\n",
      "---\n",
      "url: http://www.hanbit.co.kr/store/books/look.php?p_code=B3563253053\n",
      "title: 똑똑한 코드 작성을 위한 실전 알고리즘\n",
      "---\n",
      "url: http://www.hanbit.co.kr/store/books/look.php?p_code=B4622884510\n",
      "title: IT CookBook, UI/UX 디자인 이론과 실무 with 어도비 XD\n",
      "---\n",
      "url: http://www.hanbit.co.kr/store/books/look.php?p_code=B7975223427\n",
      "title: 때려치우기의 기술\n",
      "---\n",
      "url: http://www.hanbit.co.kr/store/books/look.php?p_code=B9882279606\n",
      "title: 완성된 웹사이트로 배우는 HTML&CSS 웹 디자인\n",
      "---\n"
     ]
    }
   ],
   "source": [
    "# re.findall() 메서드를 통해 도서 하나에 해당하는 HTML을 추출\n",
    "for partial_html in re.findall(r'<td class=\"left\"><a.*?</td>', html, re.DOTALL):\n",
    "    # 도서의 URL을 추출\n",
    "    url = re.search(r'<a href=\"(.*?)\">', partial_html).group(1)\n",
    "    url = 'http://www.hanbit.co.kr' + url\n",
    "    \n",
    "    # 태그를 제거해서 도서의 제목을 추출\n",
    "    title = re.sub(r'<.*?>', '', partial_html)\n",
    "    title = unescape(title)\n",
    "    print('url:', url)\n",
    "    print('title:', title)\n",
    "    print('---')"
   ]
  },
  {
   "cell_type": "code",
   "execution_count": null,
   "id": "c84ba107",
   "metadata": {},
   "outputs": [],
   "source": []
  }
 ],
 "metadata": {
  "kernelspec": {
   "display_name": "Python 3 (ipykernel)",
   "language": "python",
   "name": "python3"
  },
  "language_info": {
   "codemirror_mode": {
    "name": "ipython",
    "version": 3
   },
   "file_extension": ".py",
   "mimetype": "text/x-python",
   "name": "python",
   "nbconvert_exporter": "python",
   "pygments_lexer": "ipython3",
   "version": "3.9.12"
  }
 },
 "nbformat": 4,
 "nbformat_minor": 5
}
