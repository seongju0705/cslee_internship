{
 "cells": [
  {
   "cell_type": "markdown",
   "id": "4e9acca4",
   "metadata": {},
   "source": [
    "## 3.8.2.1.selenium"
   ]
  },
  {
   "cell_type": "code",
   "execution_count": 1,
   "id": "f672597d",
   "metadata": {
    "scrolled": true
   },
   "outputs": [
    {
     "name": "stdout",
     "output_type": "stream",
     "text": [
      "Defaulting to user installation because normal site-packages is not writeable\n",
      "Requirement already satisfied: selenium in c:\\users\\user\\appdata\\roaming\\python\\python39\\site-packages (4.3.0)\n",
      "Requirement already satisfied: urllib3[secure,socks]~=1.26 in c:\\programdata\\anaconda3\\lib\\site-packages (from selenium) (1.26.9)\n",
      "Requirement already satisfied: trio-websocket~=0.9 in c:\\users\\user\\appdata\\roaming\\python\\python39\\site-packages (from selenium) (0.9.2)\n",
      "Requirement already satisfied: trio~=0.17 in c:\\users\\user\\appdata\\roaming\\python\\python39\\site-packages (from selenium) (0.21.0)\n",
      "Requirement already satisfied: idna in c:\\programdata\\anaconda3\\lib\\site-packages (from trio~=0.17->selenium) (3.3)\n",
      "Requirement already satisfied: attrs>=19.2.0 in c:\\programdata\\anaconda3\\lib\\site-packages (from trio~=0.17->selenium) (21.4.0)\n",
      "Requirement already satisfied: sortedcontainers in c:\\programdata\\anaconda3\\lib\\site-packages (from trio~=0.17->selenium) (2.4.0)\n",
      "Requirement already satisfied: cffi>=1.14 in c:\\programdata\\anaconda3\\lib\\site-packages (from trio~=0.17->selenium) (1.15.0)\n",
      "Requirement already satisfied: outcome in c:\\users\\user\\appdata\\roaming\\python\\python39\\site-packages (from trio~=0.17->selenium) (1.2.0)\n",
      "Requirement already satisfied: async-generator>=1.9 in c:\\users\\user\\appdata\\roaming\\python\\python39\\site-packages (from trio~=0.17->selenium) (1.10)\n",
      "Requirement already satisfied: sniffio in c:\\programdata\\anaconda3\\lib\\site-packages (from trio~=0.17->selenium) (1.2.0)\n",
      "Requirement already satisfied: pycparser in c:\\programdata\\anaconda3\\lib\\site-packages (from cffi>=1.14->trio~=0.17->selenium) (2.21)\n",
      "Requirement already satisfied: wsproto>=0.14 in c:\\users\\user\\appdata\\roaming\\python\\python39\\site-packages (from trio-websocket~=0.9->selenium) (1.1.0)\n",
      "Requirement already satisfied: certifi in c:\\programdata\\anaconda3\\lib\\site-packages (from urllib3[secure,socks]~=1.26->selenium) (2021.10.8)\n",
      "Requirement already satisfied: pyOpenSSL>=0.14 in c:\\programdata\\anaconda3\\lib\\site-packages (from urllib3[secure,socks]~=1.26->selenium) (21.0.0)\n",
      "Requirement already satisfied: cryptography>=1.3.4 in c:\\programdata\\anaconda3\\lib\\site-packages (from urllib3[secure,socks]~=1.26->selenium) (3.4.8)\n",
      "Requirement already satisfied: PySocks!=1.5.7,<2.0,>=1.5.6 in c:\\programdata\\anaconda3\\lib\\site-packages (from urllib3[secure,socks]~=1.26->selenium) (1.7.1)\n",
      "Requirement already satisfied: six>=1.5.2 in c:\\programdata\\anaconda3\\lib\\site-packages (from pyOpenSSL>=0.14->urllib3[secure,socks]~=1.26->selenium) (1.16.0)\n",
      "Requirement already satisfied: h11<1,>=0.9.0 in c:\\users\\user\\appdata\\roaming\\python\\python39\\site-packages (from wsproto>=0.14->trio-websocket~=0.9->selenium) (0.13.0)\n"
     ]
    }
   ],
   "source": [
    "!pip install selenium"
   ]
  },
  {
   "cell_type": "code",
   "execution_count": 2,
   "id": "fe8777ac",
   "metadata": {},
   "outputs": [],
   "source": [
    "from selenium.webdriver import Chrome\n",
    "import time\n",
    "import sqlite3\n",
    "from pandas.io import sql\n",
    "import os\n",
    "import pandas as pd"
   ]
  },
  {
   "cell_type": "code",
   "execution_count": 3,
   "id": "c20e87bf",
   "metadata": {},
   "outputs": [],
   "source": [
    "from selenium import webdriver\n",
    "\n",
    "options = webdriver.ChromeOptions()\n",
    "options.add_argument(\"--start-maximized\");\n",
    "\n",
    "browser = webdriver.Chrome('chromedriver', options=options)"
   ]
  },
  {
   "cell_type": "code",
   "execution_count": 4,
   "id": "925fcb3a",
   "metadata": {},
   "outputs": [],
   "source": [
    "browser.get('https://www.data.go.kr/')\n",
    "browser.implicitly_wait(5)"
   ]
  },
  {
   "cell_type": "code",
   "execution_count": 5,
   "id": "bc34313a",
   "metadata": {},
   "outputs": [],
   "source": [
    "browser.find_element(\"xpath\", '//*[@id=\"header\"]/div/div/div/div[2]/div/a[1]').click()\n",
    "browser.implicitly_wait(5)"
   ]
  },
  {
   "cell_type": "code",
   "execution_count": 6,
   "id": "c9f4b96f",
   "metadata": {},
   "outputs": [],
   "source": [
    "browser.find_element(\"xpath\", '//*[@id=\"mberId\"]').send_keys('tjdwn010705')"
   ]
  },
  {
   "cell_type": "code",
   "execution_count": 7,
   "id": "9470040b",
   "metadata": {},
   "outputs": [],
   "source": [
    "browser.find_element(\"xpath\", '//*[@id=\"pswrd\"]').send_keys('Chosungju17*')"
   ]
  },
  {
   "cell_type": "code",
   "execution_count": 8,
   "id": "59f0e09f",
   "metadata": {},
   "outputs": [],
   "source": [
    "browser.find_element(\"xpath\", '//*[@id=\"loginVo\"]/div[2]/div[2]/div[2]/div/div[1]/button').click()\n",
    "browser.implicitly_wait(5)"
   ]
  },
  {
   "cell_type": "code",
   "execution_count": 9,
   "id": "0d680164",
   "metadata": {},
   "outputs": [],
   "source": [
    "browser.find_element(\"xpath\", '//*[@id=\"M000400_pc\"]/a').click()"
   ]
  },
  {
   "cell_type": "code",
   "execution_count": 10,
   "id": "78f820c1",
   "metadata": {},
   "outputs": [],
   "source": [
    "browser.find_element(\"xpath\", '//*[@id=\"M000402_pc\"]/a').click()"
   ]
  },
  {
   "cell_type": "code",
   "execution_count": 11,
   "id": "613ed502",
   "metadata": {},
   "outputs": [],
   "source": [
    "def db_save(ARTICLE_LIST):\n",
    "    with sqlite3.connect(os.path.join('.', 'sqliteDB')) as con:\n",
    "        try:\n",
    "            ARTICLE_LIST.to_sql(name= 'ARTICLE_LIST', con=con, index=False, if_exists='append')\n",
    "        except Exception as e:\n",
    "            print(str(e))\n",
    "        print(len(ARTICLE_LIST), '건 저장완료')"
   ]
  },
  {
   "cell_type": "code",
   "execution_count": 12,
   "id": "3420d2b3",
   "metadata": {},
   "outputs": [
    {
     "name": "stdout",
     "output_type": "stream",
     "text": [
      "10 건 저장완료\n"
     ]
    }
   ],
   "source": [
    "trs = browser.find_elements(\"xpath\",'//*[@id=\"searchVO\"]/div[5]/table/tbody/tr')\n",
    "df_list = []\n",
    "for tr in trs:\n",
    "    df = pd.DataFrame({\n",
    "            'NO': [tr.find_element('xpath', 'td[1]').text],\n",
    "            'TITLE': [tr.find_element('xpath', 'td[2]').text],\n",
    "            'IQRY': [tr.find_element('xpath', 'td[3]').text],\n",
    "            'REGDT': [tr.find_element('xpath', 'td[4]').text],\n",
    "            'CHGDT': [tr.find_element('xpath', 'td[5]').text],\n",
    "        })\n",
    "    df_list.append(df)\n",
    "    \n",
    "ARTICLE_LIST = pd.concat(df_list)\n",
    "db_save(ARTICLE_LIST)"
   ]
  },
  {
   "cell_type": "code",
   "execution_count": 13,
   "id": "8d385f8f",
   "metadata": {},
   "outputs": [],
   "source": [
    "browser.find_element(\"xpath\", '//*[@id=\"searchVO\"]/div[5]/table/tbody/tr[1]/td[2]/a').click()\n",
    "browser.implicitly_wait(3)"
   ]
  },
  {
   "cell_type": "code",
   "execution_count": 14,
   "id": "e54b7dc7",
   "metadata": {},
   "outputs": [],
   "source": [
    "browser.find_element(\"xpath\", '//*[@id=\"recsroomDetail\"]/div[2]/div[4]/div/a').click()\n",
    "time.sleep(1)"
   ]
  },
  {
   "cell_type": "code",
   "execution_count": 15,
   "id": "785e47be",
   "metadata": {},
   "outputs": [],
   "source": [
    "browser.quit()"
   ]
  },
  {
   "cell_type": "markdown",
   "id": "c99422a5",
   "metadata": {},
   "source": [
    "## 3.8.2.2.selenium_headless"
   ]
  },
  {
   "cell_type": "code",
   "execution_count": 16,
   "id": "6eb77314",
   "metadata": {
    "scrolled": true
   },
   "outputs": [
    {
     "name": "stdout",
     "output_type": "stream",
     "text": [
      "Defaulting to user installation because normal site-packages is not writeable\n",
      "Requirement already satisfied: selenium in c:\\users\\user\\appdata\\roaming\\python\\python39\\site-packages (4.3.0)\n",
      "Requirement already satisfied: trio-websocket~=0.9 in c:\\users\\user\\appdata\\roaming\\python\\python39\\site-packages (from selenium) (0.9.2)\n",
      "Requirement already satisfied: urllib3[secure,socks]~=1.26 in c:\\programdata\\anaconda3\\lib\\site-packages (from selenium) (1.26.9)\n",
      "Requirement already satisfied: trio~=0.17 in c:\\users\\user\\appdata\\roaming\\python\\python39\\site-packages (from selenium) (0.21.0)\n",
      "Requirement already satisfied: sortedcontainers in c:\\programdata\\anaconda3\\lib\\site-packages (from trio~=0.17->selenium) (2.4.0)\n",
      "Requirement already satisfied: cffi>=1.14 in c:\\programdata\\anaconda3\\lib\\site-packages (from trio~=0.17->selenium) (1.15.0)\n",
      "Requirement already satisfied: async-generator>=1.9 in c:\\users\\user\\appdata\\roaming\\python\\python39\\site-packages (from trio~=0.17->selenium) (1.10)\n",
      "Requirement already satisfied: idna in c:\\programdata\\anaconda3\\lib\\site-packages (from trio~=0.17->selenium) (3.3)\n",
      "Requirement already satisfied: attrs>=19.2.0 in c:\\programdata\\anaconda3\\lib\\site-packages (from trio~=0.17->selenium) (21.4.0)\n",
      "Requirement already satisfied: sniffio in c:\\programdata\\anaconda3\\lib\\site-packages (from trio~=0.17->selenium) (1.2.0)\n",
      "Requirement already satisfied: outcome in c:\\users\\user\\appdata\\roaming\\python\\python39\\site-packages (from trio~=0.17->selenium) (1.2.0)\n",
      "Requirement already satisfied: pycparser in c:\\programdata\\anaconda3\\lib\\site-packages (from cffi>=1.14->trio~=0.17->selenium) (2.21)\n",
      "Requirement already satisfied: wsproto>=0.14 in c:\\users\\user\\appdata\\roaming\\python\\python39\\site-packages (from trio-websocket~=0.9->selenium) (1.1.0)\n",
      "Requirement already satisfied: certifi in c:\\programdata\\anaconda3\\lib\\site-packages (from urllib3[secure,socks]~=1.26->selenium) (2021.10.8)\n",
      "Requirement already satisfied: pyOpenSSL>=0.14 in c:\\programdata\\anaconda3\\lib\\site-packages (from urllib3[secure,socks]~=1.26->selenium) (21.0.0)\n",
      "Requirement already satisfied: cryptography>=1.3.4 in c:\\programdata\\anaconda3\\lib\\site-packages (from urllib3[secure,socks]~=1.26->selenium) (3.4.8)\n",
      "Requirement already satisfied: PySocks!=1.5.7,<2.0,>=1.5.6 in c:\\programdata\\anaconda3\\lib\\site-packages (from urllib3[secure,socks]~=1.26->selenium) (1.7.1)\n",
      "Requirement already satisfied: six>=1.5.2 in c:\\programdata\\anaconda3\\lib\\site-packages (from pyOpenSSL>=0.14->urllib3[secure,socks]~=1.26->selenium) (1.16.0)\n",
      "Requirement already satisfied: h11<1,>=0.9.0 in c:\\users\\user\\appdata\\roaming\\python\\python39\\site-packages (from wsproto>=0.14->trio-websocket~=0.9->selenium) (0.13.0)\n"
     ]
    }
   ],
   "source": [
    "!pip install selenium"
   ]
  },
  {
   "cell_type": "code",
   "execution_count": 17,
   "id": "89359662",
   "metadata": {},
   "outputs": [],
   "source": [
    "from selenium.webdriver import Chrome\n",
    "import time\n",
    "import sqlite3\n",
    "from pandas.io import sql\n",
    "import os\n",
    "import pandas as pd"
   ]
  },
  {
   "cell_type": "code",
   "execution_count": 18,
   "id": "72cb9fb8",
   "metadata": {},
   "outputs": [],
   "source": [
    "from selenium import webdriver\n",
    "\n",
    "options = webdriver.ChromeOptions()\n",
    "options.add_argument('--headless')\n",
    "options.add_argument('--disable-gpu')\n",
    "options.add_argument('--window-size=1280x1024')\n",
    "\n",
    "browser = webdriver.Chrome('chromedriver', options=options)"
   ]
  },
  {
   "cell_type": "code",
   "execution_count": 19,
   "id": "506aeac8",
   "metadata": {},
   "outputs": [],
   "source": [
    "browser.get('https://www.data.go.kr/')\n",
    "browser.implicitly_wait(5)"
   ]
  },
  {
   "cell_type": "code",
   "execution_count": 20,
   "id": "78a28ed0",
   "metadata": {},
   "outputs": [],
   "source": [
    "browser.find_element(\"xpath\", '//*[@id=\"header\"]/div/div/div/div[2]/div/a[1]').click()\n",
    "browser.implicitly_wait(5)"
   ]
  },
  {
   "cell_type": "code",
   "execution_count": 21,
   "id": "206463ae",
   "metadata": {},
   "outputs": [],
   "source": [
    "browser.find_element(\"xpath\", '//*[@id=\"mberId\"]').send_keys('tjdwn010705')"
   ]
  },
  {
   "cell_type": "code",
   "execution_count": 22,
   "id": "b67fde0d",
   "metadata": {},
   "outputs": [],
   "source": [
    "browser.find_element(\"xpath\", '//*[@id=\"pswrd\"]').send_keys('Chosungju17*')"
   ]
  },
  {
   "cell_type": "code",
   "execution_count": 23,
   "id": "c62c0241",
   "metadata": {},
   "outputs": [],
   "source": [
    "browser.find_element(\"xpath\", '//*[@id=\"loginVo\"]/div[2]/div[2]/div[2]/div/div[1]/button').click()\n",
    "browser.implicitly_wait(5)"
   ]
  },
  {
   "cell_type": "code",
   "execution_count": 24,
   "id": "32c9f594",
   "metadata": {},
   "outputs": [],
   "source": [
    "browser.find_element(\"xpath\", '//*[@id=\"M000400_pc\"]/a').click()"
   ]
  },
  {
   "cell_type": "code",
   "execution_count": 25,
   "id": "faae1a21",
   "metadata": {},
   "outputs": [],
   "source": [
    "browser.find_element(\"xpath\", '//*[@id=\"M000402_pc\"]/a').click()"
   ]
  },
  {
   "cell_type": "code",
   "execution_count": 26,
   "id": "feea5547",
   "metadata": {},
   "outputs": [],
   "source": [
    "def db_save(ARTICLE_LIST):\n",
    "    with sqlite3.connect(os.path.join('.', 'sqliteDB')) as con:\n",
    "        try:\n",
    "            ARTICLE_LIST.to_sql(name='ARTILCE_LIST', con=con, index=False, if_exists='append')\n",
    "        except Exception as e:\n",
    "            print(str(e))\n",
    "        print(len(ARTICLE_LIST), '건 저장완료')"
   ]
  },
  {
   "cell_type": "code",
   "execution_count": 27,
   "id": "710eaab9",
   "metadata": {},
   "outputs": [
    {
     "name": "stdout",
     "output_type": "stream",
     "text": [
      "10 건 저장완료\n"
     ]
    }
   ],
   "source": [
    "trs = browser.find_elements(\"xpath\", '//*[@id=\"searchVO\"]/div[5]/table/tbody/tr')\n",
    "df_list = []\n",
    "for tr in trs:\n",
    "    df = pd.DataFrame({\n",
    "        'NO': [tr.find_element(\"xpath\", 'td[1]').text],\n",
    "        'TITLE': [tr.find_element(\"xpath\", 'td[2]').text],\n",
    "        'IQRY': [tr.find_element(\"xpath\", 'td[3]').text],\n",
    "        'REGDT': [tr.find_element(\"xpath\", 'td[4]').text],\n",
    "        'CHGDT': [tr.find_element(\"xpath\", 'td[5]').text]\n",
    "    })\n",
    "    df_list.append(df)\n",
    "    \n",
    "ARTICLE_LIST = pd.concat(df_list)\n",
    "db_save(ARTICLE_LIST)"
   ]
  },
  {
   "cell_type": "code",
   "execution_count": 28,
   "id": "4587a21a",
   "metadata": {},
   "outputs": [],
   "source": [
    "browser.find_element(\"xpath\", '//*[@id=\"searchVO\"]/div[5]/table/tbody/tr[1]/td[2]/a').click()\n",
    "browser.implicitly_wait(3)"
   ]
  },
  {
   "cell_type": "code",
   "execution_count": 29,
   "id": "a87a6810",
   "metadata": {},
   "outputs": [],
   "source": [
    "browser.find_element(\"xpath\", '//*[@id=\"recsroomDetail\"]/div[2]/div[4]/div/a').click()\n",
    "time.sleep(1)"
   ]
  },
  {
   "cell_type": "code",
   "execution_count": 30,
   "id": "addfa349",
   "metadata": {},
   "outputs": [],
   "source": [
    "browser.quit()"
   ]
  }
 ],
 "metadata": {
  "kernelspec": {
   "display_name": "Python 3 (ipykernel)",
   "language": "python",
   "name": "python3"
  },
  "language_info": {
   "codemirror_mode": {
    "name": "ipython",
    "version": 3
   },
   "file_extension": ".py",
   "mimetype": "text/x-python",
   "name": "python",
   "nbconvert_exporter": "python",
   "pygments_lexer": "ipython3",
   "version": "3.9.12"
  }
 },
 "nbformat": 4,
 "nbformat_minor": 5
}
